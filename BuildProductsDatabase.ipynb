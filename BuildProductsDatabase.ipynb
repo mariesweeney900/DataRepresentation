{
  "nbformat": 4,
  "nbformat_minor": 0,
  "metadata": {
    "colab": {
      "name": "BuildProductsDatabase.ipynb",
      "provenance": [],
      "collapsed_sections": []
    },
    "kernelspec": {
      "name": "python3",
      "display_name": "Python 3"
    }
  },
  "cells": [
    {
      "cell_type": "code",
      "metadata": {
        "id": "hXAEUnAmc08G"
      },
      "source": [
        "#https://docs.python.org/3/library/sqlite3.html\r\n",
        "#Imports the sqllite module and connects to a database created by python anywhere\r\n",
        "import sqlite3\r\n",
        "conn = sqlite3.connect('products.db')"
      ],
      "execution_count": 13,
      "outputs": []
    },
    {
      "cell_type": "code",
      "metadata": {
        "id": "eT9wrHpJgD9S"
      },
      "source": [
        "#https://docs.python.org/3/library/sqlite3.html\r\n",
        "#Cursors are created by the connection. cursor() method: the commands are executed by the connection.\r\n",
        "\r\n",
        "c = conn.cursor()\r\n",
        "\r\n",
        "# Create table products\r\n",
        "c.execute('''CREATE TABLE products\r\n",
        "             (Type, Barcode, Make, Price)''')\r\n",
        "\r\n",
        "# Insert a row of data\r\n",
        "c.execute(\"INSERT INTO products VALUES ('Butter','45678','erin', 3)\")\r\n",
        "\r\n",
        "# Save and commit the changes\r\n",
        "conn.commit()\r\n",
        "\r\n",
        "# Can close the connection if complete.\r\n",
        "#Changes that have been committed will be lost.\r\n",
        "conn.close()"
      ],
      "execution_count": 14,
      "outputs": []
    },
    {
      "cell_type": "code",
      "metadata": {
        "id": "ekff1FZmdbUo"
      },
      "source": [
        "#https://docs.python.org/3/library/sqlite3.html\r\n",
        "\r\n",
        "import sqlite3\r\n",
        "conn = sqlite3.connect('products.db')\r\n",
        "c = conn.cursor()"
      ],
      "execution_count": 15,
      "outputs": []
    },
    {
      "cell_type": "code",
      "metadata": {
        "colab": {
          "base_uri": "https://localhost:8080/"
        },
        "id": "5e1WbcDddj2g",
        "outputId": "08772ec0-7b96-4249-b2a6-8c4a823e0c5d"
      },
      "source": [
        "#https://docs.python.org/3/library/sqlite3.html\r\n",
        "#Put ? as a placeholder where =one wants to use a value, and then give a tuple of values as the second argument to the cursor’s execute() method.\r\n",
        "\r\n",
        "m = ('erin',)\r\n",
        "c.execute('SELECT * FROM products WHERE Make=?', m)\r\n",
        "print(c.fetchone())\r\n",
        "\r\n",
        "# Can insert many records in the one instance\r\n",
        "purchases = [('Cookies', '32451', 'Nestle', 2),\r\n",
        "             ('Crackers', '26789', 'Goodwins', 2),\r\n",
        "             ('Apples', '65789', 'Sams', 2),\r\n",
        "            ]\r\n",
        "c.executemany('INSERT INTO products VALUES (?,?,?,?)', purchases)"
      ],
      "execution_count": 18,
      "outputs": [
        {
          "output_type": "stream",
          "text": [
            "('Butter', '45678', 'erin', 3)\n"
          ],
          "name": "stdout"
        },
        {
          "output_type": "execute_result",
          "data": {
            "text/plain": [
              "<sqlite3.Cursor at 0x7f49b984ed50>"
            ]
          },
          "metadata": {
            "tags": []
          },
          "execution_count": 18
        }
      ]
    }
  ]
}